{
 "cells": [
  {
   "cell_type": "code",
   "execution_count": 1,
   "id": "2332d1a4",
   "metadata": {},
   "outputs": [],
   "source": [
    "import pandas as pd"
   ]
  },
  {
   "cell_type": "code",
   "execution_count": 13,
   "id": "317334bb",
   "metadata": {},
   "outputs": [],
   "source": [
    "# Load the data into a pandas DataFrame\n",
    "df = pd.read_csv(\"awards.csv\")\n",
    "\n",
    "awards_per_year = df.groupby('StartDate')['AwardNumber'].count()\n",
    "\n",
    "award_amount_per_year = df.groupby('StartDate')['AwardedAmountToDate'].sum()\n",
    "\n",
    "awards_per_researcher = df.groupby('PrincipalInvestigator')['AwardNumber'].count()\n",
    "\n",
    "research_area_per_researcher = df.groupby('PrincipalInvestigator')['Program(s)'].unique()\n",
    "\n",
    "data_science_related_areas = [\n",
    "    \"Computer Science\", \"Statistics\", \"Math\", \"Computational\",\n",
    "    \"Quantitative\", \"Machine Learning\", \"Data Analytics\",\n",
    "    \"Information Systems\", \"Security\"\n",
    "]\n",
    "\n",
    "data_science_researchers = df[df['Program(s)'].str.contains('|'.join(data_science_related_areas), case=False)]\n",
    "\n",
    "researchers_with_data_science_funding = data_science_researchers[['PrincipalInvestigator', 'PIEmailAddress']].drop_duplicates()"
   ]
  },
  {
   "cell_type": "code",
   "execution_count": 16,
   "id": "441affb1",
   "metadata": {},
   "outputs": [
    {
     "name": "stdout",
     "output_type": "stream",
     "text": [
      "StartDate\n",
      "1/1/2003     1\n",
      "1/1/2009     1\n",
      "1/15/2017    1\n",
      "10/1/1998    1\n",
      "10/1/2023    1\n",
      "11/1/2019    1\n",
      "4/1/2004     1\n",
      "4/1/2012     1\n",
      "4/1/2015     2\n",
      "4/1/2016     1\n",
      "5/1/2013     1\n",
      "6/1/2007     1\n",
      "6/1/2008     1\n",
      "7/1/2010     1\n",
      "7/1/2015     1\n",
      "7/15/2015    1\n",
      "7/15/2019    1\n",
      "8/1/2009     2\n",
      "8/1/2020     1\n",
      "9/1/2007     1\n",
      "9/1/2009     1\n",
      "9/1/2011     4\n",
      "9/1/2013     1\n",
      "9/1/2022     2\n",
      "9/15/2013    1\n",
      "Name: AwardNumber, dtype: int64\n"
     ]
    }
   ],
   "source": [
    "print(awards_per_year)"
   ]
  },
  {
   "cell_type": "code",
   "execution_count": 18,
   "id": "52f17af2",
   "metadata": {},
   "outputs": [
    {
     "name": "stdout",
     "output_type": "stream",
     "text": [
      "StartDate\n",
      "1/1/2003                                        $150,000.00 \n",
      "1/1/2009                                        $148,555.00 \n",
      "1/15/2017                                        $20,988.00 \n",
      "10/1/1998                                       $440,994.00 \n",
      "10/1/2023                                       $264,322.00 \n",
      "11/1/2019                                       $999,999.00 \n",
      "4/1/2004                                         $16,420.00 \n",
      "4/1/2012                                         $11,000.00 \n",
      "4/1/2015                            $614,172.00 $987,000.00 \n",
      "4/1/2016                                        $300,000.00 \n",
      "5/1/2013                                         $15,000.00 \n",
      "6/1/2007                                         $99,855.00 \n",
      "6/1/2008                                        $421,657.00 \n",
      "7/1/2010                                         $28,933.00 \n",
      "7/1/2015                                      $1,904,891.00 \n",
      "7/15/2015                                        $12,000.00 \n",
      "7/15/2019                                       $399,170.00 \n",
      "8/1/2009                            $269,392.00 $614,520.00 \n",
      "8/1/2020                                        $249,641.00 \n",
      "9/1/2007                                      $2,562,511.00 \n",
      "9/1/2009                                         $66,779.00 \n",
      "9/1/2011     $999,631.00 $238,835.00 $59,493.00 $229,000.00 \n",
      "9/1/2013                                      $1,189,490.00 \n",
      "9/1/2022                            $453,358.00 $397,565.00 \n",
      "9/15/2013                                     $2,552,270.00 \n",
      "Name: AwardedAmountToDate, dtype: object\n"
     ]
    }
   ],
   "source": [
    "print(award_amount_per_year)"
   ]
  },
  {
   "cell_type": "code",
   "execution_count": 19,
   "id": "af1a5140",
   "metadata": {},
   "outputs": [
    {
     "name": "stdout",
     "output_type": "stream",
     "text": [
      "PrincipalInvestigator\n",
      "Ahad Nasab                  1\n",
      "Ankit Patras                1\n",
      "Aubrey Cahoon               1\n",
      "Charles McCurry             1\n",
      "Chris Stephens              1\n",
      "Dafeng Hui                  2\n",
      "Darrell Moore               1\n",
      "Debra Knisley               1\n",
      "Dong Ye                     1\n",
      "Elaine Martin               1\n",
      "Frances Williams            1\n",
      "Hanna Terletska             1\n",
      "Jennifer Stewart-Wright     1\n",
      "Jiann-Shiun Lew             1\n",
      "Kamal Al Nasr               1\n",
      "Linda Guthrie               1\n",
      "Mark Hardy                  1\n",
      "Matthew Muterspaugh         1\n",
      "Millicent Lownes-Jackson    1\n",
      "Paul Lee                    1\n",
      "Richard Carter              1\n",
      "Richard Detmer              1\n",
      "Richard Ignace              1\n",
      "Robert Hampton              1\n",
      "Rodney Keaton               1\n",
      "S. Keith Hargrove           1\n",
      "Sachin Shetty               1\n",
      "Sonali Roy                  1\n",
      "Tanya Peres                 1\n",
      "Thomas Jones                1\n",
      "Name: AwardNumber, dtype: int64\n"
     ]
    }
   ],
   "source": [
    "print(awards_per_researcher)"
   ]
  },
  {
   "cell_type": "code",
   "execution_count": 20,
   "id": "f8efe1dc",
   "metadata": {},
   "outputs": [
    {
     "name": "stdout",
     "output_type": "stream",
     "text": [
      "PrincipalInvestigator\n",
      "Ahad Nasab                                   [S-STEM-Schlr Sci Tech Eng&Math]\n",
      "Ankit Patras                                  [HBCU-EiR - HBCU-Excellence in]\n",
      "Aubrey Cahoon                                [Major Research Instrumentation]\n",
      "Charles McCurry                                [Hist Black Colleges and Univ]\n",
      "Chris Stephens                                                [Combinatorics]\n",
      "Dafeng Hui                  [Major Research Instrumentation, UNGRAD RES ME...\n",
      "Darrell Moore               [UBM, Transforming Undergrad Bio Ed, EPSCoR Co...\n",
      "Debra Knisley                                                 [Combinatorics]\n",
      "Dong Ye                                                       [Combinatorics]\n",
      "Elaine Martin                                  [Robert Noyce Scholarship Pgm]\n",
      "Frances Williams                             [Centers for Rsch Excell in S&T]\n",
      "Hanna Terletska                                                [IUSE, ExLENT]\n",
      "Jennifer Stewart-Wright     [OPPORT FOR ENHANCING DIVERSITY, GEO-LSAMP LIN...\n",
      "Jiann-Shiun Lew                                           [DYNAMICAL SYSTEMS]\n",
      "Kamal Al Nasr                                  [Hist Black Colleges and Univ]\n",
      "Linda Guthrie               [Hist Black Colleges and Univ, Perception, Act...\n",
      "Mark Hardy                                   [Alliances-Minority Participat.]\n",
      "Matthew Muterspaugh                                                   [PAARE]\n",
      "Millicent Lownes-Jackson                     [Alliances-Minority Participat.]\n",
      "Paul Lee                                        [TEACHER ENHANCEMENT PROGRAM]\n",
      "Richard Carter                               [Major Research Instrumentation]\n",
      "Richard Detmer                               [HIGH PERF NETWK CONNECT-SCIENG]\n",
      "Richard Ignace                               [STELLAR ASTRONOMY & ASTROPHYSC]\n",
      "Robert Hampton              [Hist Black Colleges and Univ, EPSCoR Co-Funding]\n",
      "Rodney Keaton                                 [ALGEBRA,NUMBER THEORY,AND COM]\n",
      "S. Keith Hargrove                              [Hist Black Colleges and Univ]\n",
      "Sachin Shetty                                  [Hist Black Colleges and Univ]\n",
      "Sonali Roy                                     [Hist Black Colleges and Univ]\n",
      "Tanya Peres                                                     [Archaeology]\n",
      "Thomas Jones                [EDUCATION AND HUMAN RESOURCES, Sedimentary Ge...\n",
      "Name: Program(s), dtype: object\n"
     ]
    }
   ],
   "source": [
    "print(research_area_per_researcher)"
   ]
  },
  {
   "cell_type": "code",
   "execution_count": 22,
   "id": "43bf9b50",
   "metadata": {},
   "outputs": [
    {
     "name": "stdout",
     "output_type": "stream",
     "text": [
      "   AwardNumber                                              Title  \\\n",
      "3      1458648  Middle Tennessee Mechatronics Engineering Scho...   \n",
      "\n",
      "  NSFOrganization                      Program(s) StartDate LastAmendmentDate  \\\n",
      "3             DUE  S-STEM-Schlr Sci Tech Eng&Math  4/1/2015         8/21/2018   \n",
      "\n",
      "  PrincipalInvestigator State                       Organization  \\\n",
      "3            Ahad Nasab    TN  Middle Tennessee State University   \n",
      "\n",
      "  AwardInstrument  ... OrganizationStreet OrganizationCity OrganizationState  \\\n",
      "3  Standard Grant  ...       1301 E. Main     Murfreesboro                TN   \n",
      "\n",
      "  OrganizationZip OrganizationPhone NSFDirectorate ProgramElementCode(s)  \\\n",
      "3       371320001        6154947848            EHR                  1536   \n",
      "\n",
      "  ProgramReferenceCode(s)  ARRAAmount  \\\n",
      "3        9150, 9178, SMET      $0.00    \n",
      "\n",
      "                                            Abstract  \n",
      "3  The Middle Tennessee Mechatronics Scholars Pro...  \n",
      "\n",
      "[1 rows x 25 columns]\n"
     ]
    }
   ],
   "source": [
    "print(data_science_researchers)"
   ]
  },
  {
   "cell_type": "code",
   "execution_count": 23,
   "id": "4077bc92",
   "metadata": {},
   "outputs": [
    {
     "name": "stdout",
     "output_type": "stream",
     "text": [
      "  PrincipalInvestigator      PIEmailAddress\n",
      "3            Ahad Nasab  ahad-nasab@utc.edu\n"
     ]
    }
   ],
   "source": [
    "print(researchers_with_data_science_funding)"
   ]
  },
  {
   "cell_type": "code",
   "execution_count": null,
   "id": "fb44f48d",
   "metadata": {},
   "outputs": [],
   "source": []
  }
 ],
 "metadata": {
  "kernelspec": {
   "display_name": "Python 3 (ipykernel)",
   "language": "python",
   "name": "python3"
  },
  "language_info": {
   "codemirror_mode": {
    "name": "ipython",
    "version": 3
   },
   "file_extension": ".py",
   "mimetype": "text/x-python",
   "name": "python",
   "nbconvert_exporter": "python",
   "pygments_lexer": "ipython3",
   "version": "3.9.12"
  }
 },
 "nbformat": 4,
 "nbformat_minor": 5
}
